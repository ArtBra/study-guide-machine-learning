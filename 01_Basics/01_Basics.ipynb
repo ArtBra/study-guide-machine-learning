{
 "cells": [
  {
   "cell_type": "markdown",
   "metadata": {},
   "source": [
    "# 01_Basics"
   ]
  },
  {
   "cell_type": "markdown",
   "metadata": {},
   "source": [
    "## 01_01_Matrices and Algebra fundamentals"
   ]
  },
  {
   "cell_type": "markdown",
   "metadata": {},
   "source": [
    "### Mathematical Objects\n",
    "The basic mathematical objects we have to understand as data scientist are the following picture. The two primary mathematical entities that are of interest in linear algebra are the vector and the matrix. They are examples of a more general entity known as a tensor. Tensors possess an order (or rank), which determines the number of dimensions in an array required to represent it.:\n",
    "![matrix-image](https://miro.medium.com/max/700/0*sjDnWS2QtJUa0Gy8.png)\n",
    "\n",
    "* [Scalar](https://en.wikipedia.org/wiki/Scalar_(mathematics)):\n",
    "In mathematics it is necessary to describe the set of values to which a scalar belongs.  The notation  $x \\in R$ states that the (lowercase) scalar value  is an element of (or member of) the set of real-valued numbers, .\n",
    "\n",
    "$v_\\pi$\n",
    "\n",
    "Scalars are single numbers and are an example of a 0th-order tensor. In the graphic above for example 24.\n",
    "\n",
    "* [Vector](https://en.wikipedia.org/wiki/Vector_(mathematics_and_physics)):\n",
    "A Vector is an ordered array of numbers and can be in a row or a column and are an example of 1st-order tensor. A Vector has just a single index, which can point to a specific value within the Vector.\n",
    "\n",
    "For example, V2 refers to the second value within the Vector, which is -8 in the graphic above.\n",
    "\n",
    "* [Matrix]\n",
    "In mathematics, a matrix is a __rectangular array of numbers, symbols, or expressions, arranged in rows and columns__. A matrix could be reduced as a submatrix of a matrix by deleting any collection of rows and/or columns.\n",
    "\n",
    "![matrix-image](https://upload.wikimedia.org/wikipedia/commons/b/bb/Matrix.svg)\n",
    "\n",
    "### Operations\n",
    "\n",
    "There are a number of basic operations that can be applied to modify matrices:\n",
    "\n",
    "* [Addition](https://en.wikipedia.org/wiki/Matrix_addition)\n",
    "* [Scalar Multiplication](https://en.wikipedia.org/wiki/Scalar_multiplication)\n",
    "* [Transposition](https://en.wikipedia.org/wiki/Transpose)\n",
    "* [Multiplication](https://en.wikipedia.org/wiki/Matrix_multiplication)\n"
   ]
  },
  {
   "cell_type": "code",
   "execution_count": null,
   "metadata": {},
   "outputs": [],
   "source": []
  }
 ],
 "metadata": {
  "kernelspec": {
   "display_name": "Python 3",
   "language": "python",
   "name": "python3"
  },
  "language_info": {
   "codemirror_mode": {
    "name": "ipython",
    "version": 3
   },
   "file_extension": ".py",
   "mimetype": "text/x-python",
   "name": "python",
   "nbconvert_exporter": "python",
   "pygments_lexer": "ipython3",
   "version": "3.7.7"
  }
 },
 "nbformat": 4,
 "nbformat_minor": 4
}
