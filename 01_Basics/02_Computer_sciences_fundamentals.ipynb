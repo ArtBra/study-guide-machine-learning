{
 "cells": [
  {
   "cell_type": "markdown",
   "metadata": {},
   "source": [
    "# 02_Computer_science_fundamentals"
   ]
  },
  {
   "cell_type": "markdown",
   "metadata": {},
   "source": [
    "## <a href=\"https://en.wikipedia.org/wiki/Data_(computing)\" target=\"_top\">Data</a>\n",
    "\n",
    "Since the invention of computers, people have used the __term data__ to refer to computer information, and this information was either transmitted or stored. \n",
    "\n",
    "But that is not the only data definition. There exist other types of data as well. So, what is the data? Data can be texts or numbers written on papers, or it can be bytes and bits inside the memory of electronic devices, or it could be facts that are stored inside a person’s mind. There can be various types of data.\n",
    "\n",
    "![Data_types](https://upload.wikimedia.org/wikipedia/commons/thumb/6/6d/Data_types_-_en.svg/220px-Data_types_-_en.svg.png)\n",
    "\n",
    "### What are data\n",
    "\n",
    "Data is any sequence of one or more digits. Datum is a single digit of data. Data requires interpretation to become information. It is a collection of measurements or observations, generally divided into two different types: __quantitative data__ and __qualitative data__.\n",
    "\n",
    ">__Quantitative data__ is numerical. It’s used to define information that can be counted. Some examples of quantitative data include distance, speed, height, length and weight. It’s easy to remember the difference between qualitative and quantitative data, as one refers to qualities, and the other refers to quantities.\n",
    "\n",
    ">__Qualitative data__ refers to information about qualities, or information that cannot be measured. It’s usually descriptive and textual. Examples include someone’s eye colour or the type of car they drive. In surveys, it’s often used to categorise ‘yes’ or ‘no’ answers.\n",
    "\n",
    "![Qualitative data vs Quantitative data](https://www.cgsinc.com/sites/default/files/Blog%20Photos/Feedback%20as%20Proof%20of%20ROI_Blog_Image%201.jpg)\n",
    "\n",
    "#### Quantitative data\n",
    "\n",
    "Quantitative, or numerical, data can be broken down into two types: discrete and continuous.\n",
    "\n",
    ">__Discrete data__ is a whole number that __can’t be divided__ or broken into individual parts, fractions or decimals. Examples of discrete data include the number of pets someone has – one can have two dogs but not two-and-a-half dogs. The number of wins someone’s favourite team gets is also a form of discrete data because a team can’t have a half win – it’s either a win, a loss, or a draw.\n",
    "\n",
    ">__Continuous data__ describes values that __can be broken__ down into different parts, units, fractions and decimals. Continuous data points, such as height and weight, can be measured. Time can also be broken down – by half a second or half an hour. Temperature is another example of continuous data\n",
    "\n",
    "There’s an easy way to remember the difference between the two types of quantitative data: data is considered __discrete__ if __it can be counted__ and is __continuous__ if __it can be measured__. Someone can count students, tickets purchased and books, while one measures height, distance and temperature.\n",
    "\n",
    "#### Qualitative data\n",
    "\n",
    "Qualitative data describes the qualities of data points and is non-numerical. It’s used to define the information and can also be further broken down into sub-categories through the four scales of measurement\n",
    "\n",
    "![Qualitative data vs Quantitative data depth](https://studyonline.unsw.edu.au/sites/default/files/UNSW2.png)\n",
    "\n",
    "### Data in computer sience\n",
    "\n",
    "As we descriped data representing quantities, characters, or symbols on which operations are performed by a computer are stored and recorded on magnetic, optical, electronic, or mechanical recording media, and transmitted in the form of digital electrical or optical signals.\n",
    "\n",
    "A program is data in the form of coded instructions to control the operation of a computer or other machine. Physical computer memory elements consist of an address and a byte/word of data storage. Digital data are often stored in relational databases, like tables or SQL databases, and can generally be represented as abstract key/value pairs.\n",
    "\n",
    "Data can be organized in many different types of __[data structures](https://en.wikipedia.org/wiki/Data_structure)__, including arrays, graphs, and objects. Data structures can store data of many different types, including numbers, strings and even other data structures. Data pass in and out of computers via peripheral devices.\n",
    "\n",
    "![Data Structure](https://www.webpageacademy.com/media/images/Data-structures.png)\n",
    "\n",
    "In an alternate usage, [binary files](https://en.wikipedia.org/wiki/Binary_file) (which are not human-readable) are sometimes called \"data\" as distinguished from human-readable \"text\". Digital data comes in these three states: [data at rest](https://en.wikipedia.org/wiki/Data_at_rest), [data in transit](https://en.wikipedia.org/wiki/Data_in_transit) and [data in use](https://en.wikipedia.org/wiki/Data_in_use).\n",
    "\n",
    "![States of digital data](https://upload.wikimedia.org/wikipedia/commons/3/3b/DAR_v_DIU.JPG)\n"
   ]
  },
  {
   "cell_type": "markdown",
   "metadata": {},
   "source": [
    "## Databases and multidimensional databases"
   ]
  },
  {
   "cell_type": "markdown",
   "metadata": {},
   "source": [
    "## Reporting vs BI vs Analytics"
   ]
  },
  {
   "cell_type": "markdown",
   "metadata": {},
   "source": [
    "## Data security"
   ]
  }
 ],
 "metadata": {
  "kernelspec": {
   "display_name": "Python 3",
   "language": "python",
   "name": "python3"
  },
  "language_info": {
   "codemirror_mode": {
    "name": "ipython",
    "version": 3
   },
   "file_extension": ".py",
   "mimetype": "text/x-python",
   "name": "python",
   "nbconvert_exporter": "python",
   "pygments_lexer": "ipython3",
   "version": "3.7.7"
  },
  "varInspector": {
   "cols": {
    "lenName": 16,
    "lenType": 16,
    "lenVar": 40
   },
   "kernels_config": {
    "python": {
     "delete_cmd_postfix": "",
     "delete_cmd_prefix": "del ",
     "library": "var_list.py",
     "varRefreshCmd": "print(var_dic_list())"
    },
    "r": {
     "delete_cmd_postfix": ") ",
     "delete_cmd_prefix": "rm(",
     "library": "var_list.r",
     "varRefreshCmd": "cat(var_dic_list()) "
    }
   },
   "types_to_exclude": [
    "module",
    "function",
    "builtin_function_or_method",
    "instance",
    "_Feature"
   ],
   "window_display": false
  }
 },
 "nbformat": 4,
 "nbformat_minor": 4
}
